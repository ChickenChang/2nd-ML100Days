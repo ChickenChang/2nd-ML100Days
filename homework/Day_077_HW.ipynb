{
 "cells": [
  {
   "cell_type": "markdown",
   "metadata": {},
   "source": [
    "## 作業\n",
    "1. 請將 Epoch 加到 500 個，並觀察 learning curve 的走勢\n",
    "2. 請將 Optimizer 換成 SGD，並觀察 learning curve 的走勢"
   ]
  },
  {
   "cell_type": "code",
   "execution_count": 1,
   "metadata": {},
   "outputs": [
    {
     "name": "stderr",
     "output_type": "stream",
     "text": [
      "Using TensorFlow backend.\n"
     ]
    }
   ],
   "source": [
    "import os\n",
    "import keras\n",
    "\n",
    "# 本作業不需使用 GPU, 將 GPU 設定為 \"無\"\n",
    "os.environ[\"CUDA_VISIBLE_DEVICES\"] = \"\""
   ]
  },
  {
   "cell_type": "code",
   "execution_count": 2,
   "metadata": {},
   "outputs": [],
   "source": [
    "# 從 Keras 的內建功能中，取得 train 與 test 資料集\n",
    "train, test = keras.datasets.cifar10.load_data()"
   ]
  },
  {
   "cell_type": "code",
   "execution_count": 3,
   "metadata": {},
   "outputs": [],
   "source": [
    "# 將 X 與 Y 獨立放進變數\n",
    "x_train, y_train = train\n",
    "x_test, y_test = test\n",
    "# 資料前處理 - 標準化\n",
    "x_train = x_train / 255.\n",
    "x_test = x_test / 255.\n",
    "\n",
    "# 將資料從圖形 (RGB) 轉為向量 (Single Vector)\n",
    "x_train = x_train.reshape((len(x_train), -1))\n",
    "x_test = x_test.reshape((len(x_test), -1))\n",
    "\n",
    "# 將目標轉為 one-hot encoding\n",
    "y_train = keras.utils.to_categorical(y_train, num_classes=10)\n",
    "y_test = keras.utils.to_categorical(y_test, num_classes=10)"
   ]
  },
  {
   "cell_type": "code",
   "execution_count": 4,
   "metadata": {},
   "outputs": [],
   "source": [
    "# 建立一個有三層隱藏層之神經網路\n",
    "def build_mlp():\n",
    "    \"\"\"\n",
    "    Try to build your own model\n",
    "    \"\"\"\n",
    "    input_layer = keras.layers.Input([x_train.shape[-1]])\n",
    "    x = keras.layers.Dense(units=512, activation=\"relu\")(input_layer)\n",
    "    x = keras.layers.Dense(units=256, activation=\"relu\")(x)\n",
    "    x = keras.layers.Dense(units=128, activation=\"relu\")(x)\n",
    "    out = keras.layers.Dense(units=10, activation=\"softmax\")(x)\n",
    "    \n",
    "    model = keras.models.Model(inputs=[input_layer], outputs=[out])\n",
    "    return model"
   ]
  },
  {
   "cell_type": "code",
   "execution_count": 5,
   "metadata": {},
   "outputs": [
    {
     "name": "stdout",
     "output_type": "stream",
     "text": [
      "_________________________________________________________________\n",
      "Layer (type)                 Output Shape              Param #   \n",
      "=================================================================\n",
      "input_1 (InputLayer)         (None, 3072)              0         \n",
      "_________________________________________________________________\n",
      "dense_1 (Dense)              (None, 512)               1573376   \n",
      "_________________________________________________________________\n",
      "dense_2 (Dense)              (None, 256)               131328    \n",
      "_________________________________________________________________\n",
      "dense_3 (Dense)              (None, 128)               32896     \n",
      "_________________________________________________________________\n",
      "dense_4 (Dense)              (None, 10)                1290      \n",
      "=================================================================\n",
      "Total params: 1,738,890\n",
      "Trainable params: 1,738,890\n",
      "Non-trainable params: 0\n",
      "_________________________________________________________________\n"
     ]
    }
   ],
   "source": [
    "model = build_mlp()\n",
    "# 用 Keras 內建方法檢視模型各層參數量\n",
    "model.summary()\n",
    "\n",
    "optimizer = keras.optimizers.SGD(lr=0.001)\n",
    "model.compile(loss=\"categorical_crossentropy\", metrics=[\"accuracy\"], optimizer=optimizer)"
   ]
  },
  {
   "cell_type": "code",
   "execution_count": 7,
   "metadata": {
    "scrolled": true
   },
   "outputs": [
    {
     "name": "stdout",
     "output_type": "stream",
     "text": [
      "Train on 50000 samples, validate on 10000 samples\n",
      "Epoch 1/50\n",
      "50000/50000 [==============================] - 3s - loss: 1.3963 - acc: 0.5122 - val_loss: 1.4662 - val_acc: 0.4807\n",
      "Epoch 2/50\n",
      "50000/50000 [==============================] - 3s - loss: 1.3952 - acc: 0.5120 - val_loss: 1.4552 - val_acc: 0.4881\n",
      "Epoch 3/50\n",
      "50000/50000 [==============================] - 3s - loss: 1.3933 - acc: 0.5138 - val_loss: 1.4588 - val_acc: 0.4870\n",
      "Epoch 4/50\n",
      "50000/50000 [==============================] - 3s - loss: 1.3922 - acc: 0.5139 - val_loss: 1.4545 - val_acc: 0.4864\n",
      "Epoch 5/50\n",
      "50000/50000 [==============================] - 3s - loss: 1.3906 - acc: 0.5144 - val_loss: 1.4555 - val_acc: 0.4858\n",
      "Epoch 6/50\n",
      "50000/50000 [==============================] - 3s - loss: 1.3891 - acc: 0.5153 - val_loss: 1.4581 - val_acc: 0.4816\n",
      "Epoch 7/50\n",
      "50000/50000 [==============================] - 3s - loss: 1.3879 - acc: 0.5162 - val_loss: 1.4563 - val_acc: 0.4880\n",
      "Epoch 8/50\n",
      "50000/50000 [==============================] - 3s - loss: 1.3869 - acc: 0.5159 - val_loss: 1.4565 - val_acc: 0.4879\n",
      "Epoch 9/50\n",
      "50000/50000 [==============================] - 3s - loss: 1.3851 - acc: 0.5157 - val_loss: 1.4532 - val_acc: 0.4863\n",
      "Epoch 10/50\n",
      "50000/50000 [==============================] - 3s - loss: 1.3839 - acc: 0.5161 - val_loss: 1.4502 - val_acc: 0.4869\n",
      "Epoch 11/50\n",
      "50000/50000 [==============================] - 3s - loss: 1.3829 - acc: 0.5165 - val_loss: 1.4529 - val_acc: 0.4869\n",
      "Epoch 12/50\n",
      "50000/50000 [==============================] - 3s - loss: 1.3813 - acc: 0.5167 - val_loss: 1.4517 - val_acc: 0.4865\n",
      "Epoch 13/50\n",
      "50000/50000 [==============================] - 3s - loss: 1.3799 - acc: 0.5179 - val_loss: 1.4483 - val_acc: 0.4881\n",
      "Epoch 14/50\n",
      "50000/50000 [==============================] - 3s - loss: 1.3782 - acc: 0.5191 - val_loss: 1.4459 - val_acc: 0.4938\n",
      "Epoch 15/50\n",
      "50000/50000 [==============================] - 3s - loss: 1.3770 - acc: 0.5194 - val_loss: 1.4454 - val_acc: 0.4906\n",
      "Epoch 16/50\n",
      "50000/50000 [==============================] - 3s - loss: 1.3757 - acc: 0.5196 - val_loss: 1.4441 - val_acc: 0.4907\n",
      "Epoch 17/50\n",
      "50000/50000 [==============================] - 3s - loss: 1.3741 - acc: 0.5200 - val_loss: 1.4426 - val_acc: 0.4906\n",
      "Epoch 18/50\n",
      "50000/50000 [==============================] - 3s - loss: 1.3727 - acc: 0.5216 - val_loss: 1.4465 - val_acc: 0.4877\n",
      "Epoch 19/50\n",
      "50000/50000 [==============================] - 3s - loss: 1.3717 - acc: 0.5215 - val_loss: 1.4479 - val_acc: 0.4888\n",
      "Epoch 20/50\n",
      "50000/50000 [==============================] - 3s - loss: 1.3705 - acc: 0.5212 - val_loss: 1.4562 - val_acc: 0.4854\n",
      "Epoch 21/50\n",
      "50000/50000 [==============================] - 3s - loss: 1.3693 - acc: 0.5214 - val_loss: 1.4478 - val_acc: 0.4904\n",
      "Epoch 22/50\n",
      "50000/50000 [==============================] - 3s - loss: 1.3680 - acc: 0.5218 - val_loss: 1.4401 - val_acc: 0.4935\n",
      "Epoch 23/50\n",
      "50000/50000 [==============================] - 3s - loss: 1.3662 - acc: 0.5225 - val_loss: 1.4415 - val_acc: 0.4944\n",
      "Epoch 24/50\n",
      "50000/50000 [==============================] - 3s - loss: 1.3650 - acc: 0.5232 - val_loss: 1.4437 - val_acc: 0.4920\n",
      "Epoch 25/50\n",
      "50000/50000 [==============================] - 3s - loss: 1.3634 - acc: 0.5228 - val_loss: 1.4450 - val_acc: 0.4858\n",
      "Epoch 26/50\n",
      "50000/50000 [==============================] - 3s - loss: 1.3623 - acc: 0.5233 - val_loss: 1.4369 - val_acc: 0.4948\n",
      "Epoch 27/50\n",
      "50000/50000 [==============================] - 3s - loss: 1.3613 - acc: 0.5256 - val_loss: 1.4406 - val_acc: 0.4883\n",
      "Epoch 28/50\n",
      "50000/50000 [==============================] - 3s - loss: 1.3597 - acc: 0.5249 - val_loss: 1.4407 - val_acc: 0.4948\n",
      "Epoch 29/50\n",
      "50000/50000 [==============================] - 3s - loss: 1.3583 - acc: 0.5250 - val_loss: 1.4352 - val_acc: 0.4934\n",
      "Epoch 30/50\n",
      "50000/50000 [==============================] - 3s - loss: 1.3572 - acc: 0.5256 - val_loss: 1.4359 - val_acc: 0.4910\n",
      "Epoch 31/50\n",
      "50000/50000 [==============================] - 3s - loss: 1.3553 - acc: 0.5262 - val_loss: 1.4338 - val_acc: 0.4966\n",
      "Epoch 32/50\n",
      "50000/50000 [==============================] - 3s - loss: 1.3550 - acc: 0.5264 - val_loss: 1.4282 - val_acc: 0.4972\n",
      "Epoch 33/50\n",
      "50000/50000 [==============================] - 3s - loss: 1.3526 - acc: 0.5268 - val_loss: 1.4369 - val_acc: 0.4927\n",
      "Epoch 34/50\n",
      "50000/50000 [==============================] - 3s - loss: 1.3519 - acc: 0.5275 - val_loss: 1.4284 - val_acc: 0.4986\n",
      "Epoch 35/50\n",
      "50000/50000 [==============================] - 3s - loss: 1.3506 - acc: 0.5273 - val_loss: 1.4343 - val_acc: 0.4968\n",
      "Epoch 36/50\n",
      "50000/50000 [==============================] - 3s - loss: 1.3491 - acc: 0.5291 - val_loss: 1.4342 - val_acc: 0.4914\n",
      "Epoch 37/50\n",
      "50000/50000 [==============================] - 3s - loss: 1.3477 - acc: 0.5284 - val_loss: 1.4249 - val_acc: 0.4968\n",
      "Epoch 38/50\n",
      "50000/50000 [==============================] - 3s - loss: 1.3467 - acc: 0.5291 - val_loss: 1.4359 - val_acc: 0.4961\n",
      "Epoch 39/50\n",
      "50000/50000 [==============================] - 3s - loss: 1.3452 - acc: 0.5306 - val_loss: 1.4374 - val_acc: 0.4904\n",
      "Epoch 40/50\n",
      "50000/50000 [==============================] - 3s - loss: 1.3442 - acc: 0.5303 - val_loss: 1.4305 - val_acc: 0.4958\n",
      "Epoch 41/50\n",
      "50000/50000 [==============================] - 3s - loss: 1.3428 - acc: 0.5301 - val_loss: 1.4326 - val_acc: 0.4967\n",
      "Epoch 42/50\n",
      "50000/50000 [==============================] - 3s - loss: 1.3414 - acc: 0.5306 - val_loss: 1.4322 - val_acc: 0.4936\n",
      "Epoch 43/50\n",
      "50000/50000 [==============================] - 3s - loss: 1.3395 - acc: 0.5320 - val_loss: 1.4313 - val_acc: 0.4950\n",
      "Epoch 44/50\n",
      "50000/50000 [==============================] - 3s - loss: 1.3394 - acc: 0.5319 - val_loss: 1.4203 - val_acc: 0.5000\n",
      "Epoch 45/50\n",
      "50000/50000 [==============================] - 3s - loss: 1.3379 - acc: 0.5325 - val_loss: 1.4233 - val_acc: 0.4992\n",
      "Epoch 46/50\n",
      "50000/50000 [==============================] - 3s - loss: 1.3366 - acc: 0.5334 - val_loss: 1.4279 - val_acc: 0.4944\n",
      "Epoch 47/50\n",
      "50000/50000 [==============================] - 3s - loss: 1.3349 - acc: 0.5333 - val_loss: 1.4242 - val_acc: 0.4982\n",
      "Epoch 48/50\n",
      "50000/50000 [==============================] - 3s - loss: 1.3341 - acc: 0.5329 - val_loss: 1.4168 - val_acc: 0.5013\n",
      "Epoch 49/50\n",
      "50000/50000 [==============================] - 3s - loss: 1.3324 - acc: 0.5351 - val_loss: 1.4306 - val_acc: 0.4955\n",
      "Epoch 50/50\n",
      "50000/50000 [==============================] - 3s - loss: 1.3314 - acc: 0.5336 - val_loss: 1.4196 - val_acc: 0.5030\n"
     ]
    },
    {
     "data": {
      "text/plain": [
       "<keras.callbacks.History at 0x7f6020a314a8>"
      ]
     },
     "execution_count": 7,
     "metadata": {},
     "output_type": "execute_result"
    }
   ],
   "source": [
    "# 訓練模型並檢視驗證集的結果\n",
    "model.fit(x_train, y_train, \n",
    "          epochs=50, # 將 Epoch 設定成 50\n",
    "          batch_size=256, \n",
    "          validation_data=(x_test, y_test), \n",
    "          shuffle=True)"
   ]
  },
  {
   "cell_type": "code",
   "execution_count": 8,
   "metadata": {},
   "outputs": [
    {
     "data": {
      "image/png": "[encoded data removed]",
      "text/plain": [
       "<matplotlib.figure.Figure at 0x7f601b9c3390>"
      ]
     },
     "metadata": {},
     "output_type": "display_data"
    },
    {
     "data": {
      "image/png": "[encoded data removed]",
      "text/plain": [
       "<matplotlib.figure.Figure at 0x7f5f5830a748>"
      ]
     },
     "metadata": {},
     "output_type": "display_data"
    }
   ],
   "source": [
    "import matplotlib.pyplot as plt\n",
    "# 以視覺畫方式檢視訓練過程\n",
    "\n",
    "train_loss = model.history.history[\"loss\"]\n",
    "valid_loss = model.history.history[\"val_loss\"]\n",
    "\n",
    "train_acc = model.history.history[\"acc\"]\n",
    "valid_acc = model.history.history[\"val_acc\"]\n",
    "\n",
    "plt.plot(range(len(train_loss)), train_loss, label=\"train loss\")\n",
    "plt.plot(range(len(valid_loss)), valid_loss, label=\"valid loss\")\n",
    "plt.legend()\n",
    "plt.title(\"Loss\")\n",
    "plt.show()\n",
    "\n",
    "plt.plot(range(len(train_acc)), train_acc, label=\"train accuracy\")\n",
    "plt.plot(range(len(valid_acc)), valid_acc, label=\"valid accuracy\")\n",
    "plt.legend()\n",
    "plt.title(\"Accuracy\")\n",
    "plt.show()"
   ]
  },
  {
   "cell_type": "code",
   "execution_count": null,
   "metadata": {},
   "outputs": [],
   "source": []
  }
 ],
 "metadata": {
  "kernelspec": {
   "display_name": "Python 3",
   "language": "python",
   "name": "python3"
  },
  "language_info": {
   "codemirror_mode": {
    "name": "ipython",
    "version": 3
   },
   "file_extension": ".py",
   "mimetype": "text/x-python",
   "name": "python",
   "nbconvert_exporter": "python",
   "pygments_lexer": "ipython3",
   "version": "3.5.2"
  }
 },
 "nbformat": 4,
 "nbformat_minor": 2
}
