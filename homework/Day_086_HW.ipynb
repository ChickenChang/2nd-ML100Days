{
 "cells": [
  {
   "cell_type": "markdown",
   "metadata": {},
   "source": [
    "## Work\n",
    "1. 試比較 save_best_only 與否的差異\n",
    "2. 請僅存入將 save_weights_only 設定為 True, 並嘗試 reset ipynb 並將模型與權重重新建回並預測 x_test"
   ]
  },
  {
   "cell_type": "code",
   "execution_count": 1,
   "metadata": {},
   "outputs": [
    {
     "name": "stderr",
     "output_type": "stream",
     "text": [
      "Using TensorFlow backend.\n"
     ]
    }
   ],
   "source": [
    "import os\n",
    "import keras\n",
    "\n",
    "# Disable GPU\n",
    "os.environ[\"CUDA_VISIBLE_DEVICES\"] = \"\""
   ]
  },
  {
   "cell_type": "code",
   "execution_count": 2,
   "metadata": {},
   "outputs": [],
   "source": [
    "train, test = keras.datasets.cifar10.load_data()"
   ]
  },
  {
   "cell_type": "code",
   "execution_count": 3,
   "metadata": {},
   "outputs": [],
   "source": [
    "## 資料前處理\n",
    "def preproc_x(x, flatten=True):\n",
    "    x = x / 255.\n",
    "    if flatten:\n",
    "        x = x.reshape((len(x), -1))\n",
    "    return x\n",
    "\n",
    "def preproc_y(y, num_classes=10):\n",
    "    if y.shape[-1] == 1:\n",
    "        y = keras.utils.to_categorical(y, num_classes)\n",
    "    return y    "
   ]
  },
  {
   "cell_type": "code",
   "execution_count": 4,
   "metadata": {},
   "outputs": [],
   "source": [
    "x_train, y_train = train\n",
    "x_test, y_test = test\n",
    "\n",
    "# Preproc the inputs\n",
    "x_train = preproc_x(x_train)\n",
    "x_test = preproc_x(x_test)\n",
    "\n",
    "# Preprc the outputs\n",
    "y_train = preproc_y(y_train)\n",
    "y_test = preproc_y(y_test)"
   ]
  },
  {
   "cell_type": "code",
   "execution_count": 5,
   "metadata": {},
   "outputs": [],
   "source": [
    "from keras.layers import BatchNormalization\n",
    "def build_mlp(input_shape, output_units=10, num_neurons=[512, 256, 128]):\n",
    "    input_layer = keras.layers.Input(input_shape)\n",
    "    \n",
    "    for i, n_units in enumerate(num_neurons):\n",
    "        if i == 0:\n",
    "            x = keras.layers.Dense(units=n_units, \n",
    "                                   activation=\"relu\", \n",
    "                                   name=\"hidden_layer\"+str(i+1))(input_layer)\n",
    "            x = BatchNormalization()(x)\n",
    "        else:\n",
    "            x = keras.layers.Dense(units=n_units, \n",
    "                                   activation=\"relu\", \n",
    "                                   name=\"hidden_layer\"+str(i+1))(x)\n",
    "            x = BatchNormalization()(x)\n",
    "    \n",
    "    out = keras.layers.Dense(units=output_units, activation=\"softmax\", name=\"output\")(x)\n",
    "    \n",
    "    model = keras.models.Model(inputs=[input_layer], outputs=[out])\n",
    "    return model"
   ]
  },
  {
   "cell_type": "code",
   "execution_count": 6,
   "metadata": {},
   "outputs": [],
   "source": [
    "## 超參數設定\n",
    "LEARNING_RATE = 1e-3\n",
    "EPOCHS = 50\n",
    "BATCH_SIZE = 1024\n",
    "MOMENTUM = 0.95"
   ]
  },
  {
   "cell_type": "code",
   "execution_count": 7,
   "metadata": {},
   "outputs": [],
   "source": [
    "# 載入 Callbacks\n",
    "from keras.callbacks import ModelCheckpoint\n",
    "\n",
    "model_ckpt = ModelCheckpoint(filepath=\"./tmp.h5\", \n",
    "                             monitor=\"val_loss\", \n",
    "                             save_best_only=True)"
   ]
  },
  {
   "cell_type": "code",
   "execution_count": 8,
   "metadata": {
    "scrolled": true
   },
   "outputs": [
    {
     "name": "stdout",
     "output_type": "stream",
     "text": [
      "_________________________________________________________________\n",
      "Layer (type)                 Output Shape              Param #   \n",
      "=================================================================\n",
      "input_1 (InputLayer)         (None, 3072)              0         \n",
      "_________________________________________________________________\n",
      "hidden_layer1 (Dense)        (None, 512)               1573376   \n",
      "_________________________________________________________________\n",
      "batch_normalization_1 (Batch (None, 512)               2048      \n",
      "_________________________________________________________________\n",
      "hidden_layer2 (Dense)        (None, 256)               131328    \n",
      "_________________________________________________________________\n",
      "batch_normalization_2 (Batch (None, 256)               1024      \n",
      "_________________________________________________________________\n",
      "hidden_layer3 (Dense)        (None, 128)               32896     \n",
      "_________________________________________________________________\n",
      "batch_normalization_3 (Batch (None, 128)               512       \n",
      "_________________________________________________________________\n",
      "output (Dense)               (None, 10)                1290      \n",
      "=================================================================\n",
      "Total params: 1,742,474\n",
      "Trainable params: 1,740,682\n",
      "Non-trainable params: 1,792\n",
      "_________________________________________________________________\n",
      "Train on 50000 samples, validate on 10000 samples\n",
      "Epoch 1/50\n",
      "50000/50000 [==============================] - 3s - loss: 2.2187 - acc: 0.2674 - val_loss: 2.1389 - val_acc: 0.2307\n",
      "Epoch 2/50\n",
      "50000/50000 [==============================] - 1s - loss: 1.7492 - acc: 0.3892 - val_loss: 1.9752 - val_acc: 0.2914\n",
      "Epoch 3/50\n",
      "50000/50000 [==============================] - 1s - loss: 1.6205 - acc: 0.4307 - val_loss: 1.8328 - val_acc: 0.3578\n",
      "Epoch 4/50\n",
      "50000/50000 [==============================] - 1s - loss: 1.5483 - acc: 0.4568 - val_loss: 1.7376 - val_acc: 0.3945\n",
      "Epoch 5/50\n",
      "50000/50000 [==============================] - 1s - loss: 1.4939 - acc: 0.4764 - val_loss: 1.6521 - val_acc: 0.4244\n",
      "Epoch 6/50\n",
      "50000/50000 [==============================] - 1s - loss: 1.4474 - acc: 0.4927 - val_loss: 1.6136 - val_acc: 0.4364\n",
      "Epoch 7/50\n",
      "50000/50000 [==============================] - 1s - loss: 1.4095 - acc: 0.5056 - val_loss: 1.5559 - val_acc: 0.4504\n",
      "Epoch 8/50\n",
      "50000/50000 [==============================] - 1s - loss: 1.3744 - acc: 0.5209 - val_loss: 1.5292 - val_acc: 0.4596\n",
      "Epoch 9/50\n",
      "50000/50000 [==============================] - 1s - loss: 1.3422 - acc: 0.5322 - val_loss: 1.5072 - val_acc: 0.4645\n",
      "Epoch 10/50\n",
      "50000/50000 [==============================] - 1s - loss: 1.3107 - acc: 0.5436 - val_loss: 1.5068 - val_acc: 0.4674\n",
      "Epoch 11/50\n",
      "50000/50000 [==============================] - 1s - loss: 1.2846 - acc: 0.5530 - val_loss: 1.4855 - val_acc: 0.4722\n",
      "Epoch 12/50\n",
      "50000/50000 [==============================] - 1s - loss: 1.2564 - acc: 0.5645 - val_loss: 1.4812 - val_acc: 0.4733\n",
      "Epoch 13/50\n",
      "50000/50000 [==============================] - 1s - loss: 1.2284 - acc: 0.5735 - val_loss: 1.4715 - val_acc: 0.4810\n",
      "Epoch 14/50\n",
      "50000/50000 [==============================] - 1s - loss: 1.2059 - acc: 0.5816 - val_loss: 1.4749 - val_acc: 0.4785\n",
      "Epoch 15/50\n",
      "50000/50000 [==============================] - 1s - loss: 1.1794 - acc: 0.5920 - val_loss: 1.4665 - val_acc: 0.4849\n",
      "Epoch 16/50\n",
      "50000/50000 [==============================] - 1s - loss: 1.1549 - acc: 0.6017 - val_loss: 1.4702 - val_acc: 0.4849\n",
      "Epoch 17/50\n",
      "50000/50000 [==============================] - 1s - loss: 1.1349 - acc: 0.6090 - val_loss: 1.4715 - val_acc: 0.4867\n",
      "Epoch 18/50\n",
      "50000/50000 [==============================] - 1s - loss: 1.1109 - acc: 0.6184 - val_loss: 1.4707 - val_acc: 0.4840\n",
      "Epoch 19/50\n",
      "50000/50000 [==============================] - 1s - loss: 1.0882 - acc: 0.6255 - val_loss: 1.4638 - val_acc: 0.4908\n",
      "Epoch 20/50\n",
      "50000/50000 [==============================] - 1s - loss: 1.0656 - acc: 0.6358 - val_loss: 1.4693 - val_acc: 0.4894\n",
      "Epoch 21/50\n",
      "50000/50000 [==============================] - 1s - loss: 1.0424 - acc: 0.6439 - val_loss: 1.4769 - val_acc: 0.4873\n",
      "Epoch 22/50\n",
      "50000/50000 [==============================] - 1s - loss: 1.0209 - acc: 0.6529 - val_loss: 1.4687 - val_acc: 0.4890\n",
      "Epoch 23/50\n",
      "50000/50000 [==============================] - 1s - loss: 1.0004 - acc: 0.6604 - val_loss: 1.4932 - val_acc: 0.4910\n",
      "Epoch 24/50\n",
      "50000/50000 [==============================] - 1s - loss: 0.9805 - acc: 0.6692 - val_loss: 1.4679 - val_acc: 0.4942\n",
      "Epoch 25/50\n",
      "50000/50000 [==============================] - 1s - loss: 0.9577 - acc: 0.6776 - val_loss: 1.4853 - val_acc: 0.4856\n",
      "Epoch 26/50\n",
      "50000/50000 [==============================] - 1s - loss: 0.9358 - acc: 0.6865 - val_loss: 1.4812 - val_acc: 0.4863\n",
      "Epoch 27/50\n",
      "50000/50000 [==============================] - 1s - loss: 0.9168 - acc: 0.6935 - val_loss: 1.4751 - val_acc: 0.4922\n",
      "Epoch 28/50\n",
      "50000/50000 [==============================] - 1s - loss: 0.8939 - acc: 0.7027 - val_loss: 1.4894 - val_acc: 0.4911\n",
      "Epoch 29/50\n",
      "50000/50000 [==============================] - 1s - loss: 0.8759 - acc: 0.7096 - val_loss: 1.4871 - val_acc: 0.4921\n",
      "Epoch 30/50\n",
      "50000/50000 [==============================] - 1s - loss: 0.8533 - acc: 0.7199 - val_loss: 1.4829 - val_acc: 0.4965\n",
      "Epoch 31/50\n",
      "50000/50000 [==============================] - 1s - loss: 0.8332 - acc: 0.7278 - val_loss: 1.4969 - val_acc: 0.4916\n",
      "Epoch 32/50\n",
      "50000/50000 [==============================] - 1s - loss: 0.8134 - acc: 0.7352 - val_loss: 1.5056 - val_acc: 0.4916\n",
      "Epoch 33/50\n",
      "50000/50000 [==============================] - 1s - loss: 0.7927 - acc: 0.7439 - val_loss: 1.5334 - val_acc: 0.4852\n",
      "Epoch 34/50\n",
      "50000/50000 [==============================] - 1s - loss: 0.7747 - acc: 0.7496 - val_loss: 1.5176 - val_acc: 0.4941\n",
      "Epoch 35/50\n",
      "50000/50000 [==============================] - 1s - loss: 0.7534 - acc: 0.7591 - val_loss: 1.5259 - val_acc: 0.4887\n",
      "Epoch 36/50\n",
      "50000/50000 [==============================] - 1s - loss: 0.7364 - acc: 0.7661 - val_loss: 1.5405 - val_acc: 0.4956\n",
      "Epoch 37/50\n",
      "50000/50000 [==============================] - 1s - loss: 0.7166 - acc: 0.7720 - val_loss: 1.5535 - val_acc: 0.4885\n",
      "Epoch 38/50\n",
      "50000/50000 [==============================] - 1s - loss: 0.6950 - acc: 0.7833 - val_loss: 1.5582 - val_acc: 0.4919\n",
      "Epoch 39/50\n",
      "50000/50000 [==============================] - 1s - loss: 0.6765 - acc: 0.7893 - val_loss: 1.5564 - val_acc: 0.4873\n",
      "Epoch 40/50\n",
      "50000/50000 [==============================] - 1s - loss: 0.6585 - acc: 0.7950 - val_loss: 1.5786 - val_acc: 0.4889\n",
      "Epoch 41/50\n",
      "50000/50000 [==============================] - 1s - loss: 0.6404 - acc: 0.8043 - val_loss: 1.5637 - val_acc: 0.4934\n",
      "Epoch 42/50\n",
      "50000/50000 [==============================] - 1s - loss: 0.6211 - acc: 0.8121 - val_loss: 1.5969 - val_acc: 0.4883\n",
      "Epoch 43/50\n",
      "50000/50000 [==============================] - 1s - loss: 0.6038 - acc: 0.8171 - val_loss: 1.6088 - val_acc: 0.4893\n",
      "Epoch 44/50\n",
      "50000/50000 [==============================] - 1s - loss: 0.5862 - acc: 0.8249 - val_loss: 1.6235 - val_acc: 0.4878\n",
      "Epoch 45/50\n",
      "50000/50000 [==============================] - 1s - loss: 0.5681 - acc: 0.8320 - val_loss: 1.6279 - val_acc: 0.4882\n",
      "Epoch 46/50\n",
      "50000/50000 [==============================] - 1s - loss: 0.5501 - acc: 0.8402 - val_loss: 1.6375 - val_acc: 0.4884\n",
      "Epoch 47/50\n",
      "50000/50000 [==============================] - 1s - loss: 0.5339 - acc: 0.8452 - val_loss: 1.6447 - val_acc: 0.4886\n",
      "Epoch 48/50\n",
      "50000/50000 [==============================] - 1s - loss: 0.5160 - acc: 0.8525 - val_loss: 1.6656 - val_acc: 0.4877\n",
      "Epoch 49/50\n",
      "50000/50000 [==============================] - 1s - loss: 0.5015 - acc: 0.8580 - val_loss: 1.6952 - val_acc: 0.4819\n",
      "Epoch 50/50\n",
      "50000/50000 [==============================] - 1s - loss: 0.4829 - acc: 0.8662 - val_loss: 1.6866 - val_acc: 0.4879\n"
     ]
    }
   ],
   "source": [
    "model = build_mlp(input_shape=x_train.shape[1:])\n",
    "model.summary()\n",
    "optimizer = keras.optimizers.SGD(lr=LEARNING_RATE, nesterov=True, momentum=MOMENTUM)\n",
    "model.compile(loss=\"categorical_crossentropy\", metrics=[\"accuracy\"], optimizer=optimizer)\n",
    "\n",
    "model.fit(x_train, y_train, \n",
    "          epochs=EPOCHS, \n",
    "          batch_size=BATCH_SIZE, \n",
    "          validation_data=(x_test, y_test), \n",
    "          shuffle=True,\n",
    "          callbacks=[model_ckpt]\n",
    "         )\n",
    "model.save(\"final_model.h5\")\n",
    "model.save_weights(\"model_weights.h5\")\n",
    "# Collect results\n",
    "train_loss = model.history.history[\"loss\"]\n",
    "valid_loss = model.history.history[\"val_loss\"]\n",
    "train_acc = model.history.history[\"acc\"]\n",
    "valid_acc = model.history.history[\"val_acc\"]\n",
    "\n",
    "pred_final = model.predict(x_test)\n",
    "# Load back\n",
    "model = keras.models.load_model(\"./tmp.h5\")\n",
    "pred_loadback = model.predict(x_test)"
   ]
  },
  {
   "cell_type": "code",
   "execution_count": 9,
   "metadata": {},
   "outputs": [
    {
     "name": "stdout",
     "output_type": "stream",
     "text": [
      "Accuracy of final weights: 0.488\n",
      "Accuracy of best weights: 0.491\n"
     ]
    }
   ],
   "source": [
    "from sklearn.metrics import accuracy_score\n",
    "\n",
    "final_model_acc = accuracy_score(y_true=y_test.argmax(axis=-1), y_pred=pred_final.argmax(axis=-1))\n",
    "loadback_acc = accuracy_score(y_true=y_test.argmax(axis=-1), y_pred=pred_loadback.argmax(axis=-1))\n",
    "\n",
    "print(\"Accuracy of final weights: %.3f\" % final_model_acc)\n",
    "print(\"Accuracy of best weights: %.3f\" % loadback_acc)"
   ]
  },
  {
   "cell_type": "code",
   "execution_count": 10,
   "metadata": {},
   "outputs": [
    {
     "name": "stdout",
     "output_type": "stream",
     "text": [
      "Accuracy of best weights: 0.100\n",
      "Accuracy of best weights: 0.488\n"
     ]
    }
   ],
   "source": [
    "new_model = build_mlp(input_shape=x_train.shape[1:])\n",
    "new_model_pred = new_model.predict(x_test)\n",
    "new_model_acc = accuracy_score(y_true=y_test.argmax(axis=-1), y_pred=new_model_pred.argmax(axis=-1))\n",
    "print(\"Accuracy of best weights: %.3f\" % new_model_acc)\n",
    "\n",
    "new_model.load_weights(\"./model_weights.h5\")\n",
    "new_model_pred = new_model.predict(x_test)\n",
    "new_model_loadback_acc = accuracy_score(y_true=y_test.argmax(axis=-1), y_pred=new_model_pred.argmax(axis=-1))\n",
    "print(\"Accuracy of best weights: %.3f\" % new_model_loadback_acc)"
   ]
  },
  {
   "cell_type": "code",
   "execution_count": null,
   "metadata": {},
   "outputs": [],
   "source": []
  }
 ],
 "metadata": {
  "kernelspec": {
   "display_name": "Python 3",
   "language": "python",
   "name": "python3"
  },
  "language_info": {
   "codemirror_mode": {
    "name": "ipython",
    "version": 3
   },
   "file_extension": ".py",
   "mimetype": "text/x-python",
   "name": "python",
   "nbconvert_exporter": "python",
   "pygments_lexer": "ipython3",
   "version": "3.5.2"
  }
 },
 "nbformat": 4,
 "nbformat_minor": 2
}
