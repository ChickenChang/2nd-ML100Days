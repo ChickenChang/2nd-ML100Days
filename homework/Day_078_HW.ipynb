{
 "cells": [
  {
   "cell_type": "markdown",
   "metadata": {},
   "source": [
    "## Work\n",
    "1. 請嘗試將 preproc_x 替換成以每筆資料的 min/max 進行標準化至 -1 ~ 1 間，再進行訓練\n",
    "2. 請嘗試將 mlp 疊更深 (e.g 5~10 層)，進行訓練後觀察 learning curve 的走勢\n",
    "3. (optional) 請改用 GPU 進行訓練 (如果你有 GPU 的話)，比較使用 CPU 與 GPU 的訓練速度"
   ]
  },
  {
   "cell_type": "code",
   "execution_count": 1,
   "metadata": {},
   "outputs": [
    {
     "name": "stdout",
     "output_type": "stream",
     "text": [
      "Mon Jul 15 09:02:55 2019       \n",
      "+-----------------------------------------------------------------------------+\n",
      "| NVIDIA-SMI 384.98                 Driver Version: 384.98                    |\n",
      "|-------------------------------+----------------------+----------------------+\n",
      "| GPU  Name        Persistence-M| Bus-Id        Disp.A | Volatile Uncorr. ECC |\n",
      "| Fan  Temp  Perf  Pwr:Usage/Cap|         Memory-Usage | GPU-Util  Compute M. |\n",
      "|===============================+======================+======================|\n",
      "|   0  GeForce GTX 108...  Off  | 00000000:02:00.0  On |                  N/A |\n",
      "| 35%   56C    P8    18W / 250W |   9891MiB / 11170MiB |      0%      Default |\n",
      "+-------------------------------+----------------------+----------------------+\n",
      "|   1  GeForce GTX 108...  Off  | 00000000:03:00.0 Off |                  N/A |\n",
      "| 26%   43C    P8    16W / 250W |     11MiB / 11172MiB |      0%      Default |\n",
      "+-------------------------------+----------------------+----------------------+\n",
      "|   2  GeForce GTX 108...  Off  | 00000000:82:00.0 Off |                  N/A |\n",
      "| 23%   39C    P8    18W / 250W |     11MiB / 11172MiB |      0%      Default |\n",
      "+-------------------------------+----------------------+----------------------+\n",
      "|   3  GeForce GTX 108...  Off  | 00000000:83:00.0 Off |                  N/A |\n",
      "| 24%   40C    P8    18W / 250W |     11MiB / 11172MiB |      0%      Default |\n",
      "+-------------------------------+----------------------+----------------------+\n",
      "                                                                               \n",
      "+-----------------------------------------------------------------------------+\n",
      "| Processes:                                                       GPU Memory |\n",
      "|  GPU       PID   Type   Process name                             Usage      |\n",
      "|=============================================================================|\n",
      "+-----------------------------------------------------------------------------+\n"
     ]
    }
   ],
   "source": [
    "## \n",
    "\"\"\"\n",
    "Your code here (optional)\n",
    "確認硬體資源\n",
    "\"\"\"\n",
    "!nvidia-smi"
   ]
  },
  {
   "cell_type": "code",
   "execution_count": 2,
   "metadata": {},
   "outputs": [
    {
     "name": "stderr",
     "output_type": "stream",
     "text": [
      "Using TensorFlow backend.\n"
     ]
    }
   ],
   "source": [
    "import os\n",
    "import keras\n",
    "\n",
    "# 請嘗試設定 GPU：os.environ\n",
    "\n",
    "os.environ[\"CUDA_VISIBLE_DEVICES\"] = \"1\""
   ]
  },
  {
   "cell_type": "code",
   "execution_count": 3,
   "metadata": {},
   "outputs": [],
   "source": [
    "train, test = keras.datasets.cifar10.load_data()"
   ]
  },
  {
   "cell_type": "code",
   "execution_count": 4,
   "metadata": {},
   "outputs": [],
   "source": [
    "## 資料前處理\n",
    "\"\"\"\n",
    "Your code here\n",
    "\"\"\"\n",
    "def preproc_x(x, flatten=True):\n",
    "    x = 2*(((x - x.min()) / (x.max() - x.min()))-0.5)\n",
    "    if flatten:\n",
    "        x = x.reshape((len(x), -1))\n",
    "    return x\n",
    "\n",
    "def preproc_y(y, num_classes=10):\n",
    "    if y.shape[-1] == 1:\n",
    "        y = keras.utils.to_categorical(y, num_classes)\n",
    "    return y    "
   ]
  },
  {
   "cell_type": "code",
   "execution_count": 5,
   "metadata": {},
   "outputs": [],
   "source": [
    "x_train, y_train = train\n",
    "x_test, y_test = test\n",
    "\n",
    "# Preproc the inputs\n",
    "x_train = preproc_x(x_train)\n",
    "x_test = preproc_x(x_test)\n",
    "\n",
    "# Preprc the outputs\n",
    "y_train = preproc_y(y_train)\n",
    "y_test = preproc_y(y_test)"
   ]
  },
  {
   "cell_type": "code",
   "execution_count": 6,
   "metadata": {},
   "outputs": [],
   "source": [
    "\"\"\"Code Here\n",
    "建立你的神經網路\n",
    "\"\"\"\n",
    "def build_mlp(input_shape, output_units=10, num_neurons=[512, 256, 128, 128, 128]):\n",
    "    input_layer = keras.layers.Input(input_shape)\n",
    "    \n",
    "    for i, n_units in enumerate(num_neurons):\n",
    "        if i == 0:\n",
    "            x = keras.layers.Dense(units=n_units, activation=\"relu\", name=\"hidden_layer\"+str(i+1))(input_layer)\n",
    "        else:\n",
    "            x = keras.layers.Dense(units=n_units, activation=\"relu\", name=\"hidden_layer\"+str(i+1))(x)\n",
    "    \n",
    "    out = keras.layers.Dense(units=output_units, activation=\"softmax\", name=\"output\")(x)\n",
    "    \n",
    "    model = keras.models.Model(inputs=[input_layer], outputs=[out])\n",
    "    return model"
   ]
  },
  {
   "cell_type": "code",
   "execution_count": 7,
   "metadata": {},
   "outputs": [
    {
     "name": "stdout",
     "output_type": "stream",
     "text": [
      "_________________________________________________________________\n",
      "Layer (type)                 Output Shape              Param #   \n",
      "=================================================================\n",
      "input_1 (InputLayer)         (None, 3072)              0         \n",
      "_________________________________________________________________\n",
      "hidden_layer1 (Dense)        (None, 512)               1573376   \n",
      "_________________________________________________________________\n",
      "hidden_layer2 (Dense)        (None, 256)               131328    \n",
      "_________________________________________________________________\n",
      "hidden_layer3 (Dense)        (None, 128)               32896     \n",
      "_________________________________________________________________\n",
      "hidden_layer4 (Dense)        (None, 128)               16512     \n",
      "_________________________________________________________________\n",
      "hidden_layer5 (Dense)        (None, 128)               16512     \n",
      "_________________________________________________________________\n",
      "output (Dense)               (None, 10)                1290      \n",
      "=================================================================\n",
      "Total params: 1,771,914\n",
      "Trainable params: 1,771,914\n",
      "Non-trainable params: 0\n",
      "_________________________________________________________________\n"
     ]
    }
   ],
   "source": [
    "model = build_mlp(input_shape=x_train.shape[1:])\n",
    "model.summary()"
   ]
  },
  {
   "cell_type": "code",
   "execution_count": 8,
   "metadata": {},
   "outputs": [],
   "source": [
    "## 超參數設定\n",
    "LEARNING_RATE = 0.001\n",
    "EPOCHS = 100\n",
    "BATCH_SIZE = 256"
   ]
  },
  {
   "cell_type": "code",
   "execution_count": 9,
   "metadata": {},
   "outputs": [],
   "source": [
    "optimizer = keras.optimizers.Adam(lr=LEARNING_RATE)\n",
    "model.compile(loss=\"categorical_crossentropy\", metrics=[\"accuracy\"], optimizer=optimizer)"
   ]
  },
  {
   "cell_type": "code",
   "execution_count": 10,
   "metadata": {},
   "outputs": [
    {
     "name": "stdout",
     "output_type": "stream",
     "text": [
      "Train on 50000 samples, validate on 10000 samples\n",
      "Epoch 1/100\n",
      "50000/50000 [==============================] - 4s - loss: 1.6861 - acc: 0.3985 - val_loss: 1.5480 - val_acc: 0.4501\n",
      "Epoch 2/100\n",
      "50000/50000 [==============================] - 2s - loss: 1.4618 - acc: 0.4847 - val_loss: 1.4486 - val_acc: 0.4940\n",
      "Epoch 3/100\n",
      "50000/50000 [==============================] - 2s - loss: 1.3444 - acc: 0.5284 - val_loss: 1.3802 - val_acc: 0.5137\n",
      "Epoch 4/100\n",
      "50000/50000 [==============================] - 2s - loss: 1.2438 - acc: 0.5611 - val_loss: 1.4049 - val_acc: 0.5079\n",
      "Epoch 5/100\n",
      "50000/50000 [==============================] - 2s - loss: 1.1628 - acc: 0.5873 - val_loss: 1.3476 - val_acc: 0.5272\n",
      "Epoch 6/100\n",
      "50000/50000 [==============================] - 2s - loss: 1.0843 - acc: 0.6153 - val_loss: 1.3820 - val_acc: 0.5219\n",
      "Epoch 7/100\n",
      "50000/50000 [==============================] - 2s - loss: 1.0065 - acc: 0.6461 - val_loss: 1.4156 - val_acc: 0.5269\n",
      "Epoch 8/100\n",
      "50000/50000 [==============================] - 2s - loss: 0.9394 - acc: 0.6673 - val_loss: 1.4309 - val_acc: 0.5238\n",
      "Epoch 9/100\n",
      "50000/50000 [==============================] - 3s - loss: 0.8752 - acc: 0.6903 - val_loss: 1.4226 - val_acc: 0.5326\n",
      "Epoch 10/100\n",
      "50000/50000 [==============================] - 2s - loss: 0.8031 - acc: 0.7153 - val_loss: 1.4675 - val_acc: 0.5405\n",
      "Epoch 11/100\n",
      "50000/50000 [==============================] - 2s - loss: 0.7410 - acc: 0.7364 - val_loss: 1.4937 - val_acc: 0.5428\n",
      "Epoch 12/100\n",
      "50000/50000 [==============================] - 2s - loss: 0.6852 - acc: 0.7585 - val_loss: 1.5873 - val_acc: 0.5412\n",
      "Epoch 13/100\n",
      "50000/50000 [==============================] - 2s - loss: 0.6286 - acc: 0.7756 - val_loss: 1.6898 - val_acc: 0.5251\n",
      "Epoch 14/100\n",
      "50000/50000 [==============================] - 3s - loss: 0.5791 - acc: 0.7939 - val_loss: 1.7244 - val_acc: 0.5334\n",
      "Epoch 15/100\n",
      "50000/50000 [==============================] - 2s - loss: 0.5370 - acc: 0.8092 - val_loss: 1.8130 - val_acc: 0.5364\n",
      "Epoch 16/100\n",
      "50000/50000 [==============================] - 2s - loss: 0.4956 - acc: 0.8251 - val_loss: 1.8280 - val_acc: 0.5353\n",
      "Epoch 17/100\n",
      "50000/50000 [==============================] - 2s - loss: 0.4475 - acc: 0.8389 - val_loss: 1.9680 - val_acc: 0.5315\n",
      "Epoch 18/100\n",
      "50000/50000 [==============================] - 2s - loss: 0.4147 - acc: 0.8507 - val_loss: 2.0243 - val_acc: 0.5163\n",
      "Epoch 19/100\n",
      "50000/50000 [==============================] - 2s - loss: 0.3885 - acc: 0.8639 - val_loss: 2.0537 - val_acc: 0.5396\n",
      "Epoch 20/100\n",
      "50000/50000 [==============================] - 2s - loss: 0.3466 - acc: 0.8785 - val_loss: 2.1942 - val_acc: 0.5261\n",
      "Epoch 21/100\n",
      "50000/50000 [==============================] - 2s - loss: 0.3154 - acc: 0.8893 - val_loss: 2.2643 - val_acc: 0.5278\n",
      "Epoch 22/100\n",
      "50000/50000 [==============================] - 2s - loss: 0.2964 - acc: 0.8953 - val_loss: 2.3409 - val_acc: 0.5287\n",
      "Epoch 23/100\n",
      "50000/50000 [==============================] - 3s - loss: 0.2937 - acc: 0.8962 - val_loss: 2.5606 - val_acc: 0.5255\n",
      "Epoch 24/100\n",
      "50000/50000 [==============================] - 3s - loss: 0.2797 - acc: 0.9017 - val_loss: 2.5631 - val_acc: 0.5186\n",
      "Epoch 25/100\n",
      "50000/50000 [==============================] - 3s - loss: 0.2486 - acc: 0.9117 - val_loss: 2.5753 - val_acc: 0.5270\n",
      "Epoch 26/100\n",
      "50000/50000 [==============================] - 2s - loss: 0.2537 - acc: 0.9128 - val_loss: 2.6229 - val_acc: 0.5298\n",
      "Epoch 27/100\n",
      "50000/50000 [==============================] - 2s - loss: 0.2429 - acc: 0.9152 - val_loss: 2.6304 - val_acc: 0.5300\n",
      "Epoch 28/100\n",
      "50000/50000 [==============================] - 2s - loss: 0.2078 - acc: 0.9276 - val_loss: 2.7170 - val_acc: 0.5275\n",
      "Epoch 29/100\n",
      "50000/50000 [==============================] - 2s - loss: 0.2163 - acc: 0.9235 - val_loss: 2.7418 - val_acc: 0.5369\n",
      "Epoch 30/100\n",
      "50000/50000 [==============================] - 2s - loss: 0.2049 - acc: 0.9280 - val_loss: 2.7957 - val_acc: 0.5267\n",
      "Epoch 31/100\n",
      "50000/50000 [==============================] - 3s - loss: 0.1914 - acc: 0.9344 - val_loss: 2.9252 - val_acc: 0.5227\n",
      "Epoch 32/100\n",
      "50000/50000 [==============================] - 2s - loss: 0.1941 - acc: 0.9331 - val_loss: 2.8955 - val_acc: 0.5259\n",
      "Epoch 33/100\n",
      "50000/50000 [==============================] - 3s - loss: 0.1716 - acc: 0.9411 - val_loss: 2.9220 - val_acc: 0.5292\n",
      "Epoch 34/100\n",
      "50000/50000 [==============================] - 2s - loss: 0.1863 - acc: 0.9364 - val_loss: 3.0883 - val_acc: 0.5299\n",
      "Epoch 35/100\n",
      "50000/50000 [==============================] - 3s - loss: 0.1663 - acc: 0.9430 - val_loss: 3.0028 - val_acc: 0.5235\n",
      "Epoch 36/100\n",
      "50000/50000 [==============================] - 2s - loss: 0.1722 - acc: 0.9416 - val_loss: 2.9034 - val_acc: 0.5259\n",
      "Epoch 37/100\n",
      "50000/50000 [==============================] - 2s - loss: 0.1495 - acc: 0.9490 - val_loss: 3.1891 - val_acc: 0.5182\n",
      "Epoch 38/100\n",
      "50000/50000 [==============================] - 3s - loss: 0.1446 - acc: 0.9505 - val_loss: 3.2072 - val_acc: 0.5290\n",
      "Epoch 39/100\n",
      "50000/50000 [==============================] - 2s - loss: 0.1672 - acc: 0.9427 - val_loss: 3.0664 - val_acc: 0.5267\n",
      "Epoch 40/100\n",
      "50000/50000 [==============================] - 2s - loss: 0.1688 - acc: 0.9441 - val_loss: 3.0062 - val_acc: 0.5301\n",
      "Epoch 41/100\n",
      "50000/50000 [==============================] - 2s - loss: 0.1435 - acc: 0.9513 - val_loss: 3.2383 - val_acc: 0.5248\n",
      "Epoch 42/100\n",
      "50000/50000 [==============================] - 3s - loss: 0.1338 - acc: 0.9559 - val_loss: 3.3270 - val_acc: 0.5288\n",
      "Epoch 43/100\n",
      "50000/50000 [==============================] - 2s - loss: 0.1321 - acc: 0.9545 - val_loss: 3.3012 - val_acc: 0.5281\n",
      "Epoch 44/100\n",
      "50000/50000 [==============================] - 2s - loss: 0.1430 - acc: 0.9524 - val_loss: 3.3674 - val_acc: 0.5305\n",
      "Epoch 45/100\n",
      "50000/50000 [==============================] - 2s - loss: 0.1143 - acc: 0.9617 - val_loss: 3.3949 - val_acc: 0.5317\n",
      "Epoch 46/100\n",
      "50000/50000 [==============================] - 3s - loss: 0.1418 - acc: 0.9517 - val_loss: 3.3182 - val_acc: 0.5229\n",
      "Epoch 47/100\n",
      "50000/50000 [==============================] - 3s - loss: 0.1284 - acc: 0.9581 - val_loss: 3.1818 - val_acc: 0.5327\n",
      "Epoch 48/100\n",
      "50000/50000 [==============================] - 2s - loss: 0.1218 - acc: 0.9594 - val_loss: 3.4538 - val_acc: 0.5322\n",
      "Epoch 49/100\n",
      "50000/50000 [==============================] - 2s - loss: 0.1236 - acc: 0.9588 - val_loss: 3.3694 - val_acc: 0.5238\n",
      "Epoch 50/100\n",
      "50000/50000 [==============================] - 2s - loss: 0.1234 - acc: 0.9588 - val_loss: 3.4250 - val_acc: 0.5277\n",
      "Epoch 51/100\n",
      "50000/50000 [==============================] - 3s - loss: 0.1029 - acc: 0.9657 - val_loss: 3.5776 - val_acc: 0.5271\n",
      "Epoch 52/100\n",
      "50000/50000 [==============================] - 2s - loss: 0.1169 - acc: 0.9609 - val_loss: 3.5779 - val_acc: 0.5364\n",
      "Epoch 53/100\n",
      "50000/50000 [==============================] - 2s - loss: 0.1108 - acc: 0.9646 - val_loss: 3.4747 - val_acc: 0.5290\n",
      "Epoch 54/100\n",
      "50000/50000 [==============================] - 2s - loss: 0.1120 - acc: 0.9625 - val_loss: 3.4518 - val_acc: 0.5377\n",
      "Epoch 55/100\n",
      "50000/50000 [==============================] - 2s - loss: 0.1270 - acc: 0.9572 - val_loss: 3.3838 - val_acc: 0.5341\n",
      "Epoch 56/100\n",
      "50000/50000 [==============================] - 3s - loss: 0.1172 - acc: 0.9616 - val_loss: 3.4356 - val_acc: 0.5331\n",
      "Epoch 57/100\n",
      "50000/50000 [==============================] - 2s - loss: 0.1065 - acc: 0.9652 - val_loss: 3.4428 - val_acc: 0.5257\n",
      "Epoch 58/100\n",
      "50000/50000 [==============================] - 2s - loss: 0.1085 - acc: 0.9648 - val_loss: 3.5433 - val_acc: 0.5308\n",
      "Epoch 59/100\n",
      "50000/50000 [==============================] - 2s - loss: 0.0963 - acc: 0.9679 - val_loss: 3.6105 - val_acc: 0.5309\n",
      "Epoch 60/100\n",
      "50000/50000 [==============================] - 2s - loss: 0.0951 - acc: 0.9692 - val_loss: 3.6579 - val_acc: 0.5236\n",
      "Epoch 61/100\n",
      "50000/50000 [==============================] - 2s - loss: 0.1038 - acc: 0.9656 - val_loss: 3.5656 - val_acc: 0.5327\n",
      "Epoch 62/100\n",
      "50000/50000 [==============================] - 2s - loss: 0.1015 - acc: 0.9665 - val_loss: 3.5919 - val_acc: 0.5337\n",
      "Epoch 63/100\n",
      "50000/50000 [==============================] - 2s - loss: 0.0966 - acc: 0.9681 - val_loss: 3.6662 - val_acc: 0.5232\n",
      "Epoch 64/100\n"
     ]
    },
    {
     "name": "stdout",
     "output_type": "stream",
     "text": [
      "50000/50000 [==============================] - 2s - loss: 0.1042 - acc: 0.9662 - val_loss: 3.6255 - val_acc: 0.5251\n",
      "Epoch 65/100\n",
      "50000/50000 [==============================] - 2s - loss: 0.0898 - acc: 0.9710 - val_loss: 3.6560 - val_acc: 0.5274\n",
      "Epoch 66/100\n",
      "50000/50000 [==============================] - 2s - loss: 0.1009 - acc: 0.9672 - val_loss: 3.5584 - val_acc: 0.5269\n",
      "Epoch 67/100\n",
      "50000/50000 [==============================] - 2s - loss: 0.0938 - acc: 0.9690 - val_loss: 3.6674 - val_acc: 0.5281\n",
      "Epoch 68/100\n",
      "50000/50000 [==============================] - 2s - loss: 0.0862 - acc: 0.9717 - val_loss: 3.6536 - val_acc: 0.5328\n",
      "Epoch 69/100\n",
      "50000/50000 [==============================] - 2s - loss: 0.1057 - acc: 0.9657 - val_loss: 3.7054 - val_acc: 0.5291\n",
      "Epoch 70/100\n",
      "50000/50000 [==============================] - 2s - loss: 0.1030 - acc: 0.9661 - val_loss: 3.7338 - val_acc: 0.5272\n",
      "Epoch 71/100\n",
      "50000/50000 [==============================] - 2s - loss: 0.0948 - acc: 0.9693 - val_loss: 3.5935 - val_acc: 0.5285\n",
      "Epoch 72/100\n",
      "50000/50000 [==============================] - 2s - loss: 0.0712 - acc: 0.9768 - val_loss: 3.8100 - val_acc: 0.5320\n",
      "Epoch 73/100\n",
      "50000/50000 [==============================] - 2s - loss: 0.0965 - acc: 0.9692 - val_loss: 3.6423 - val_acc: 0.5313\n",
      "Epoch 74/100\n",
      "50000/50000 [==============================] - 2s - loss: 0.0841 - acc: 0.9723 - val_loss: 3.6986 - val_acc: 0.5305\n",
      "Epoch 75/100\n",
      "50000/50000 [==============================] - 3s - loss: 0.0860 - acc: 0.9723 - val_loss: 3.6141 - val_acc: 0.5217\n",
      "Epoch 76/100\n",
      "50000/50000 [==============================] - 3s - loss: 0.0783 - acc: 0.9750 - val_loss: 3.6967 - val_acc: 0.5349\n",
      "Epoch 77/100\n",
      "50000/50000 [==============================] - 3s - loss: 0.0804 - acc: 0.9734 - val_loss: 3.8532 - val_acc: 0.5248\n",
      "Epoch 78/100\n",
      "50000/50000 [==============================] - 3s - loss: 0.0853 - acc: 0.9728 - val_loss: 3.8007 - val_acc: 0.5310\n",
      "Epoch 79/100\n",
      "50000/50000 [==============================] - 2s - loss: 0.0887 - acc: 0.9711 - val_loss: 3.6823 - val_acc: 0.5281\n",
      "Epoch 80/100\n",
      "50000/50000 [==============================] - 2s - loss: 0.0582 - acc: 0.9815 - val_loss: 3.9070 - val_acc: 0.5290\n",
      "Epoch 81/100\n",
      "50000/50000 [==============================] - 2s - loss: 0.0878 - acc: 0.9711 - val_loss: 3.7461 - val_acc: 0.5256\n",
      "Epoch 82/100\n",
      "50000/50000 [==============================] - 2s - loss: 0.0829 - acc: 0.9736 - val_loss: 3.7222 - val_acc: 0.5297\n",
      "Epoch 83/100\n",
      "50000/50000 [==============================] - 2s - loss: 0.0840 - acc: 0.9727 - val_loss: 3.8331 - val_acc: 0.5240\n",
      "Epoch 84/100\n",
      "50000/50000 [==============================] - 2s - loss: 0.0904 - acc: 0.9716 - val_loss: 3.6660 - val_acc: 0.5317\n",
      "Epoch 85/100\n",
      "50000/50000 [==============================] - 2s - loss: 0.0733 - acc: 0.9755 - val_loss: 3.8095 - val_acc: 0.5328\n",
      "Epoch 86/100\n",
      "50000/50000 [==============================] - 2s - loss: 0.0835 - acc: 0.9738 - val_loss: 3.8230 - val_acc: 0.5235\n",
      "Epoch 87/100\n",
      "50000/50000 [==============================] - 2s - loss: 0.0661 - acc: 0.9778 - val_loss: 3.8952 - val_acc: 0.5294\n",
      "Epoch 88/100\n",
      "50000/50000 [==============================] - 2s - loss: 0.0781 - acc: 0.9749 - val_loss: 3.8235 - val_acc: 0.5296\n",
      "Epoch 89/100\n",
      "50000/50000 [==============================] - 2s - loss: 0.0812 - acc: 0.9744 - val_loss: 3.8026 - val_acc: 0.5274\n",
      "Epoch 90/100\n",
      "50000/50000 [==============================] - 2s - loss: 0.0845 - acc: 0.9734 - val_loss: 3.7271 - val_acc: 0.5285\n",
      "Epoch 91/100\n",
      "50000/50000 [==============================] - 2s - loss: 0.0742 - acc: 0.9759 - val_loss: 3.7339 - val_acc: 0.5378\n",
      "Epoch 92/100\n",
      "50000/50000 [==============================] - 2s - loss: 0.0587 - acc: 0.9814 - val_loss: 3.9955 - val_acc: 0.5217\n",
      "Epoch 93/100\n",
      "50000/50000 [==============================] - 2s - loss: 0.0725 - acc: 0.9759 - val_loss: 3.9149 - val_acc: 0.5294\n",
      "Epoch 94/100\n",
      "50000/50000 [==============================] - 2s - loss: 0.0853 - acc: 0.9737 - val_loss: 3.7986 - val_acc: 0.5314\n",
      "Epoch 95/100\n",
      "50000/50000 [==============================] - 2s - loss: 0.0629 - acc: 0.9798 - val_loss: 3.8730 - val_acc: 0.5376\n",
      "Epoch 96/100\n",
      "50000/50000 [==============================] - 2s - loss: 0.0730 - acc: 0.9766 - val_loss: 4.0340 - val_acc: 0.5251\n",
      "Epoch 97/100\n",
      "50000/50000 [==============================] - 2s - loss: 0.0772 - acc: 0.9761 - val_loss: 3.7733 - val_acc: 0.5310\n",
      "Epoch 98/100\n",
      "50000/50000 [==============================] - 2s - loss: 0.0823 - acc: 0.9740 - val_loss: 3.7106 - val_acc: 0.5280\n",
      "Epoch 99/100\n",
      "50000/50000 [==============================] - 2s - loss: 0.0525 - acc: 0.9825 - val_loss: 3.9943 - val_acc: 0.5252\n",
      "Epoch 100/100\n",
      "50000/50000 [==============================] - 2s - loss: 0.0600 - acc: 0.9807 - val_loss: 4.0119 - val_acc: 0.5318\n"
     ]
    },
    {
     "data": {
      "text/plain": [
       "<keras.callbacks.History at 0x7f0a84261c88>"
      ]
     },
     "execution_count": 10,
     "metadata": {},
     "output_type": "execute_result"
    }
   ],
   "source": [
    "model.fit(x_train, y_train, \n",
    "          epochs=EPOCHS, \n",
    "          batch_size=BATCH_SIZE, \n",
    "          validation_data=(x_test, y_test), \n",
    "          shuffle=True)"
   ]
  },
  {
   "cell_type": "code",
   "execution_count": 11,
   "metadata": {},
   "outputs": [
    {
     "data": {
      "image/png": "[encoded data removed]",
      "text/plain": [
       "<matplotlib.figure.Figure at 0x7f0a83e4d518>"
      ]
     },
     "metadata": {},
     "output_type": "display_data"
    },
    {
     "data": {
      "image/png": "[encoded data removed]",
      "text/plain": [
       "<matplotlib.figure.Figure at 0x7f096009b860>"
      ]
     },
     "metadata": {},
     "output_type": "display_data"
    }
   ],
   "source": [
    "import matplotlib.pyplot as plt\n",
    "\n",
    "\n",
    "train_loss = model.history.history[\"loss\"]\n",
    "valid_loss = model.history.history[\"val_loss\"]\n",
    "\n",
    "train_acc = model.history.history[\"acc\"]\n",
    "valid_acc = model.history.history[\"val_acc\"]\n",
    "\n",
    "plt.plot(range(len(train_loss)), train_loss, label=\"train loss\")\n",
    "plt.plot(range(len(valid_loss)), valid_loss, label=\"valid loss\")\n",
    "plt.legend()\n",
    "plt.title(\"Loss\")\n",
    "plt.show()\n",
    "\n",
    "plt.plot(range(len(train_acc)), train_acc, label=\"train accuracy\")\n",
    "plt.plot(range(len(valid_acc)), valid_acc, label=\"valid accuracy\")\n",
    "plt.legend()\n",
    "plt.title(\"Accuracy\")\n",
    "plt.show()"
   ]
  },
  {
   "cell_type": "code",
   "execution_count": null,
   "metadata": {},
   "outputs": [],
   "source": []
  }
 ],
 "metadata": {
  "kernelspec": {
   "display_name": "Python 3",
   "language": "python",
   "name": "python3"
  },
  "language_info": {
   "codemirror_mode": {
    "name": "ipython",
    "version": 3
   },
   "file_extension": ".py",
   "mimetype": "text/x-python",
   "name": "python",
   "nbconvert_exporter": "python",
   "pygments_lexer": "ipython3",
   "version": "3.5.2"
  }
 },
 "nbformat": 4,
 "nbformat_minor": 2
}
