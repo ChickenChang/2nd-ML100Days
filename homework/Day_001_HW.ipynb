{
 "cells": [
  {
   "cell_type": "markdown",
   "metadata": {},
   "source": [
    "## 作業一\n",
    "### 請上Kaggle,在Competitions或Dataset中找一組競賽或資料並寫下：\n",
    "\n",
    "### 1.你選的資料為何重要\n",
    "#### 我選擇的是Dataset中的[Google Play Store Apps](https://www.kaggle.com/lava18/google-play-store-apps)，資料包含了9660筆Play商店上應用程式的類別、星星數、應用程式大小、下載次數、上次更新時間、版本、相關100則評論內容等等。\n",
    "#### 分析這些資料可以知道什麼樣的應用程式可以在Play商店上數億的應用程式中脫穎而出，使得下載量及星星數可以很高，讓使用者滿意。\n",
    "\n",
    "### 2.資料從何而來(tips:譬如提供者是誰、以什麼方式蒐集)\n",
    "#### 提供者使用了爬蟲技巧，抓取Play商店上的欄位資料做儲存，所有資料皆提供於Play商店，資料可信度很高，提供者也將評論做了一連串情緒分析的處理，將評論分為正面、負面及中性(此標註準確度不一定優秀，可以從提供的評論內容重新分析)。\n",
    "\n",
    "### 3.蒐集而來的資料型態為何\n",
    "#### 包含了數值資料：星星數、評論數、應用程式大小、下載量等等。類別資料：應用程式類別、子類別、是否要付費、應用程式分級、版本號等等。非結構化資料：評論內容。\n",
    "\n",
    "### 4.這組資料想解決的問題如何評估\n",
    "####  根據這組資料可以做一個Play商店的市場行銷規劃，什麼類型的應用程式會受大家歡迎，什麼類型的應用程式數量還未達飽和，製作什麼樣的應用程式可以擁有市場區隔，最後針對受歡迎的應用程式了解其特色及價值，設計出一個預期會受歡迎的應用程式。\n",
    "#### 上架該APP後，其在Play商店上的星星數、下載次數及評論，可以做為評論市場行銷規劃的精準度。\n",
    "\n",
    "\n",
    "## 作業二\n",
    "### 想像你經營一個自由載客車隊，你希望能透過數據分析以提升業績，請你思考並描述你如何規劃整體的分析/解決方案：\n",
    "\n",
    "### 1.核心問題為何(tips:如何定義「提升業績&你的假設」)\n",
    "#### 提升業績最重要的因素應該是要提高載客量，提升載客量的因素有很多，包含：此車隊的曝光率、車子價位及品牌、車齡、車子容納人數、司機是否遵守交通、司機態度等等。\n",
    "\n",
    "### 2.資料從何而來(tips:哪些資料可能會對你想問的問題產生影響&資料如何蒐集)\n",
    "#### 從登記加入車隊時便要記錄司機及車況的所有資料，可以透過手機APP叫車及計算里程，同時追蹤載客數及司機位置，APP也要提供使用者填寫問卷，以及客訴的功能。\n",
    "\n",
    "### 3.蒐集而來的資料型態為何\n",
    "#### 數值資料：載客數、載客時間、路程長度、載客地區的經緯度等等。類別資料：車子廠牌、載客地行政區、司機姓名等等。\n",
    "\n",
    "### 4.你要回答的問題，其如何評估(tips:你的假設如何驗證)\n",
    "#### 車隊曝光率是否影響載客量：透過問卷及網路聲量來評估。\n",
    "#### 車子價位、品牌、車齡及容納人數是否影響載客量：透過分析車隊的車子狀況及載客數的關係來評估。\n",
    "#### 司機是否遵守交通以及司機態度是否影響載客量：透過分析客人的問卷回饋及客訴內容來評估。\n"
   ]
  },
  {
   "cell_type": "markdown",
   "metadata": {},
   "source": [
    "# 作業三\n",
    "## 請點選下方檢視範例依照Day_001_example_of_metrics.ipynb完成Mean Squared Error的函式\n",
    "\n",
    "## 練習時間\n",
    "#### 請寫一個函式用來計算 Mean Square Error\n",
    "$ MSE = \\frac{1}{n}\\sum_{i=1}^{n}{(Y_i - \\hat{Y}_i)^2} $\n",
    "\n",
    "### Hint: [如何取平方](https://googoodesign.gitbooks.io/-ezpython/unit-1.html)"
   ]
  },
  {
   "cell_type": "code",
   "execution_count": 1,
   "metadata": {},
   "outputs": [],
   "source": [
    "import numpy as np\n",
    "import matplotlib.pyplot as plt"
   ]
  },
  {
   "cell_type": "code",
   "execution_count": 2,
   "metadata": {},
   "outputs": [],
   "source": [
    "def mean_squared_error(y, yp):\n",
    "    \"\"\"\n",
    "    請完成這個 Function 後往下執行\n",
    "    \"\"\"\n",
    "    mse = sum(abs(y - yp)**2) / len(y)\n",
    "    return mse"
   ]
  },
  {
   "cell_type": "code",
   "execution_count": 3,
   "metadata": {},
   "outputs": [],
   "source": [
    "def mean_absolute_error(y, yp):\n",
    "    \"\"\"\n",
    "    計算 MAE\n",
    "    Args:\n",
    "        - y: 實際值\n",
    "        - yp: 預測值\n",
    "    Return:\n",
    "        - mae: MAE\n",
    "    \"\"\"\n",
    "    mae = sum(abs(y - yp)) / len(y)\n",
    "    return mae"
   ]
  },
  {
   "cell_type": "code",
   "execution_count": 4,
   "metadata": {},
   "outputs": [
    {
     "data": {
      "image/png": "[encoded data removed]",
      "text/plain": [
       "<matplotlib.figure.Figure at 0x7f60c030add8>"
      ]
     },
     "metadata": {},
     "output_type": "display_data"
    }
   ],
   "source": [
    "w = 3\n",
    "b = 0.5\n",
    "\n",
    "x_lin = np.linspace(0, 100, 101)\n",
    "\n",
    "y = (x_lin + np.random.randn(101) * 5) * w + b\n",
    "\n",
    "plt.plot(x_lin, y, 'b.', label = 'data points')\n",
    "plt.title(\"Assume we have data points\")\n",
    "plt.legend(loc = 2)\n",
    "plt.show()"
   ]
  },
  {
   "cell_type": "code",
   "execution_count": 5,
   "metadata": {},
   "outputs": [
    {
     "data": {
      "image/png": "[encoded data removed]",
      "text/plain": [
       "<matplotlib.figure.Figure at 0x7f60be2886a0>"
      ]
     },
     "metadata": {},
     "output_type": "display_data"
    }
   ],
   "source": [
    "y_hat = x_lin * w + b\n",
    "plt.plot(x_lin, y, 'b.', label = 'data')\n",
    "plt.plot(x_lin, y_hat, 'r-', label = 'prediction')\n",
    "plt.title(\"Assume we have data points (And the prediction)\")\n",
    "plt.legend(loc = 2)\n",
    "plt.show()"
   ]
  },
  {
   "cell_type": "code",
   "execution_count": 6,
   "metadata": {},
   "outputs": [
    {
     "name": "stdout",
     "output_type": "stream",
     "text": [
      "The Mean squared error is 251.396\n",
      "The Mean absolute error is 12.630\n"
     ]
    }
   ],
   "source": [
    "# 執行 Function, 確認有沒有正常執行\n",
    "MSE = mean_squared_error(y, y_hat)\n",
    "MAE = mean_absolute_error(y, y_hat)\n",
    "print(\"The Mean squared error is %.3f\" % (MSE))\n",
    "print(\"The Mean absolute error is %.3f\" % (MAE))"
   ]
  },
  {
   "cell_type": "code",
   "execution_count": null,
   "metadata": {},
   "outputs": [],
   "source": []
  }
 ],
 "metadata": {
  "anaconda-cloud": {},
  "kernelspec": {
   "display_name": "Python 3",
   "language": "python",
   "name": "python3"
  },
  "language_info": {
   "codemirror_mode": {
    "name": "ipython",
    "version": 3
   },
   "file_extension": ".py",
   "mimetype": "text/x-python",
   "name": "python",
   "nbconvert_exporter": "python",
   "pygments_lexer": "ipython3",
   "version": "3.5.2"
  }
 },
 "nbformat": 4,
 "nbformat_minor": 1
}
